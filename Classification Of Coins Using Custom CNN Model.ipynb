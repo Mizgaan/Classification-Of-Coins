{
 "cells": [
  {
   "cell_type": "markdown",
   "metadata": {},
   "source": [
    "# Classification Of Coins using Custom CNN Model"
   ]
  },
  {
   "cell_type": "code",
   "execution_count": 65,
   "metadata": {},
   "outputs": [],
   "source": [
    "#Data Analysis Phase\n",
    "#Main Aim is to understnad more about the data\n",
    "\n",
    "import numpy as np\n",
    "import pandas as pd\n",
    "import matplotlib.pyplot as plt\n",
    "import seaborn as sns\n",
    "\n",
    "%matplotlib inline \n",
    "\n",
    "import warnings\n",
    "warnings.filterwarnings(\"ignore\")\n",
    "##Display all the columns in Data Frame\n",
    "\n",
    "pd.pandas.set_option('display.max_columns',None)\n",
    "from glob import glob\n",
    "# For prepocessing\n",
    "from sklearn import preprocessing\n",
    "# For Train Test Split\n",
    "from sklearn.model_selection import train_test_split\n",
    "\n",
    "# Importing Deep Learning Keras library\n",
    "import keras\n",
    "from keras.models import Sequential\n",
    "from keras.layers import Dense\n",
    "from keras.layers import LeakyReLU,PReLU,ELU\n",
    "from keras.layers import Dropout\n",
    "from keras import optimizers\n",
    "from keras.utils import to_categorical\n",
    "\n",
    "#For CNN\n",
    "from keras.layers import Conv2D, MaxPooling2D, BatchNormalization, Flatten,Activation\n"
   ]
  },
  {
   "cell_type": "code",
   "execution_count": 2,
   "metadata": {},
   "outputs": [],
   "source": [
    "train_path = r'C:\\Users\\Mizgaan\\Downloads\\classification_dataset\\Train'\n",
    "valid_path = r'C:\\Users\\Mizgaan\\Downloads\\classification_dataset\\Test'\n"
   ]
  },
  {
   "cell_type": "code",
   "execution_count": 71,
   "metadata": {},
   "outputs": [
    {
     "data": {
      "text/plain": [
       "['C:\\\\Users\\\\Mizgaan\\\\Downloads\\\\classification_dataset\\\\Train\\\\100_Coin',\n",
       " 'C:\\\\Users\\\\Mizgaan\\\\Downloads\\\\classification_dataset\\\\Train\\\\10_Coin',\n",
       " 'C:\\\\Users\\\\Mizgaan\\\\Downloads\\\\classification_dataset\\\\Train\\\\25_Coin',\n",
       " 'C:\\\\Users\\\\Mizgaan\\\\Downloads\\\\classification_dataset\\\\Train\\\\50_Coin',\n",
       " 'C:\\\\Users\\\\Mizgaan\\\\Downloads\\\\classification_dataset\\\\Train\\\\5_Coin']"
      ]
     },
     "execution_count": 71,
     "metadata": {},
     "output_type": "execute_result"
    }
   ],
   "source": [
    "folders = glob(r'C:\\Users\\Mizgaan\\Downloads\\classification_dataset\\Train\\*')\n",
    "(folders)"
   ]
  },
  {
   "cell_type": "code",
   "execution_count": 3,
   "metadata": {},
   "outputs": [
    {
     "name": "stdout",
     "output_type": "stream",
     "text": [
      "Found 2789 images belonging to 5 classes.\n"
     ]
    }
   ],
   "source": [
    "# Preprocessing training Set\n",
    "from keras.preprocessing.image import ImageDataGenerator\n",
    "train_data_gen=ImageDataGenerator(rescale=1/255, shear_range=0.2,\n",
    "                   zoom_range=0.2,horizontal_flip=True)\n",
    "\n",
    "train_set=train_data_gen.flow_from_directory(train_path,\n",
    "                                   target_size=(64,64),batch_size=32,class_mode='categorical')\n"
   ]
  },
  {
   "cell_type": "code",
   "execution_count": 4,
   "metadata": {},
   "outputs": [
    {
     "name": "stdout",
     "output_type": "stream",
     "text": [
      "Found 1095 images belonging to 5 classes.\n"
     ]
    }
   ],
   "source": [
    "test_gen=ImageDataGenerator(rescale=1/255)\n",
    "\n",
    "test_set=test_gen.flow_from_directory(valid_path,\n",
    "                             target_size=(64,64),batch_size=32,class_mode='categorical')"
   ]
  },
  {
   "cell_type": "markdown",
   "metadata": {},
   "source": [
    "## ## Making CNN Model"
   ]
  },
  {
   "cell_type": "code",
   "execution_count": 5,
   "metadata": {},
   "outputs": [],
   "source": [
    "classifier =Sequential()\n"
   ]
  },
  {
   "cell_type": "code",
   "execution_count": 6,
   "metadata": {},
   "outputs": [
    {
     "name": "stdout",
     "output_type": "stream",
     "text": [
      "WARNING:tensorflow:Large dropout rate: 0.6 (>0.5). In TensorFlow 2.x, dropout() uses dropout rate instead of keep_prob. Please ensure that this is intended.\n"
     ]
    }
   ],
   "source": [
    "#Adding 1st Convolutional Layer\n",
    "classifier.add(Conv2D(filters =32,kernel_size=(3,3),padding = 'Same',activation='relu',kernel_initializer = 'he_uniform',\n",
    "                                                input_shape=[64,64,3]))          \n",
    "# classifier.add(MaxPooling2D(pool_size=(2,2), strides=(2,2)))\n",
    "\n",
    "\n",
    "# Adding 2nd Convolutional Layer\n",
    "classifier.add(Conv2D(filters =28,kernel_size=(3,3),padding = 'Same',activation='relu',kernel_initializer = 'he_uniform'))   \n",
    "\n",
    "classifier.add(MaxPooling2D(pool_size=(2,2), strides=(2,2)))\n",
    "# classifier.add(Dropout(0.3)) # To avoid Overfitting we use Drop Out Layer\n",
    " \n",
    "    \n",
    "# Adding 3rd Convolutional Layer\n",
    "classifier.add(Conv2D(filters =30,kernel_size=(3,3),activation='relu',kernel_initializer = 'he_uniform'))\n",
    "classifier.add(MaxPooling2D(pool_size=(2,2), strides=(2,2)))\n",
    "classifier.add(Dropout(0.6))\n",
    "\n",
    "# # Adding 4th Convolutional Layer\n",
    "# classifier.add(Conv2D(filters =30,kernel_size=(3,3),activation='relu',kernel_initializer = 'he_uniform'))\n",
    "\n",
    "# # Adding 5th Convolutional Layer\n",
    "# classifier.add(Conv2D(filters =28,kernel_size=(3,3),padding = 'Same',activation='relu',kernel_initializer = 'he_uniform'))   \n",
    "\n",
    "# classifier.add(MaxPooling2D(pool_size=(2,2), strides=(2,2)))\n",
    "\n",
    "\n",
    "#         kernel_size=hp.Choice('conv_3_filter', values = [3,5]),padding = 'Same',   \n",
    "   \n",
    "classifier.add(Flatten())\n",
    "# classifier.add(Dense(512))\n",
    "    # Adding the output layer\n",
    "#     classifier.add(Dense(units=('dense_1_units', min_value=32, max_value=128, step=16),\n",
    "#         activation='relu'))\n",
    "   \n",
    "\n",
    "classifier.add(Dense(20,activation='relu'))\n",
    "classifier.add(Dense(15,activation='relu'))\n",
    "\n",
    "\n",
    "classifier.add(Dense(units=5, activation='softmax',kernel_initializer = 'glorot_uniform'))\n",
    "    "
   ]
  },
  {
   "cell_type": "code",
   "execution_count": 7,
   "metadata": {},
   "outputs": [],
   "source": [
    "# Compiling\n",
    "classifier.compile(optimizer='adam',\n",
    "              loss='categorical_crossentropy',\n",
    "              metrics=['accuracy'])\n",
    "   "
   ]
  },
  {
   "cell_type": "code",
   "execution_count": 8,
   "metadata": {},
   "outputs": [
    {
     "name": "stdout",
     "output_type": "stream",
     "text": [
      "Model: \"sequential_1\"\n",
      "_________________________________________________________________\n",
      "Layer (type)                 Output Shape              Param #   \n",
      "=================================================================\n",
      "conv2d_1 (Conv2D)            (None, 64, 64, 32)        896       \n",
      "_________________________________________________________________\n",
      "conv2d_2 (Conv2D)            (None, 64, 64, 28)        8092      \n",
      "_________________________________________________________________\n",
      "max_pooling2d_1 (MaxPooling2 (None, 32, 32, 28)        0         \n",
      "_________________________________________________________________\n",
      "conv2d_3 (Conv2D)            (None, 30, 30, 30)        7590      \n",
      "_________________________________________________________________\n",
      "max_pooling2d_2 (MaxPooling2 (None, 15, 15, 30)        0         \n",
      "_________________________________________________________________\n",
      "dropout_1 (Dropout)          (None, 15, 15, 30)        0         \n",
      "_________________________________________________________________\n",
      "flatten_1 (Flatten)          (None, 6750)              0         \n",
      "_________________________________________________________________\n",
      "dense_1 (Dense)              (None, 20)                135020    \n",
      "_________________________________________________________________\n",
      "dense_2 (Dense)              (None, 15)                315       \n",
      "_________________________________________________________________\n",
      "dense_3 (Dense)              (None, 5)                 80        \n",
      "=================================================================\n",
      "Total params: 151,993\n",
      "Trainable params: 151,993\n",
      "Non-trainable params: 0\n",
      "_________________________________________________________________\n"
     ]
    }
   ],
   "source": [
    "classifier.summary()"
   ]
  },
  {
   "cell_type": "code",
   "execution_count": 9,
   "metadata": {},
   "outputs": [
    {
     "name": "stdout",
     "output_type": "stream",
     "text": [
      "Epoch 1/100\n",
      "88/88 [==============================] - 92s 1s/step - loss: 1.5970 - accuracy: 0.2166 - val_loss: 1.6706 - val_accuracy: 0.1708\n",
      "Epoch 2/100\n",
      "88/88 [==============================] - 85s 968ms/step - loss: 1.5908 - accuracy: 0.2180 - val_loss: 1.5414 - val_accuracy: 0.2174\n",
      "Epoch 3/100\n",
      "88/88 [==============================] - 89s 1s/step - loss: 1.5894 - accuracy: 0.2327 - val_loss: 1.5564 - val_accuracy: 0.1680\n",
      "Epoch 4/100\n",
      "88/88 [==============================] - 56s 638ms/step - loss: 1.5838 - accuracy: 0.2492 - val_loss: 1.4653 - val_accuracy: 0.3096\n",
      "Epoch 5/100\n",
      "88/88 [==============================] - 34s 391ms/step - loss: 1.4377 - accuracy: 0.3862 - val_loss: 1.7629 - val_accuracy: 0.3863\n",
      "Epoch 6/100\n",
      "88/88 [==============================] - 35s 395ms/step - loss: 1.2813 - accuracy: 0.4529 - val_loss: 0.9518 - val_accuracy: 0.4384\n",
      "Epoch 7/100\n",
      "88/88 [==============================] - 36s 408ms/step - loss: 1.1771 - accuracy: 0.5192 - val_loss: 1.1778 - val_accuracy: 0.5489\n",
      "Epoch 8/100\n",
      "88/88 [==============================] - 34s 387ms/step - loss: 1.0813 - accuracy: 0.5701 - val_loss: 1.4550 - val_accuracy: 0.5443\n",
      "Epoch 9/100\n",
      "88/88 [==============================] - 34s 382ms/step - loss: 1.0195 - accuracy: 0.6171 - val_loss: 0.7298 - val_accuracy: 0.5388\n",
      "Epoch 10/100\n",
      "88/88 [==============================] - 35s 393ms/step - loss: 0.9686 - accuracy: 0.6217 - val_loss: 0.8511 - val_accuracy: 0.5900\n",
      "Epoch 11/100\n",
      "88/88 [==============================] - 34s 386ms/step - loss: 0.8972 - accuracy: 0.6483 - val_loss: 1.6054 - val_accuracy: 0.5753\n",
      "Epoch 12/100\n",
      "88/88 [==============================] - 34s 389ms/step - loss: 0.9103 - accuracy: 0.6328 - val_loss: 0.6596 - val_accuracy: 0.5973\n",
      "Epoch 13/100\n",
      "88/88 [==============================] - 35s 395ms/step - loss: 0.8305 - accuracy: 0.6651 - val_loss: 0.7947 - val_accuracy: 0.5598\n",
      "Epoch 14/100\n",
      "88/88 [==============================] - 35s 400ms/step - loss: 0.7783 - accuracy: 0.6870 - val_loss: 0.2157 - val_accuracy: 0.6521\n",
      "Epoch 15/100\n",
      "88/88 [==============================] - 35s 394ms/step - loss: 0.7567 - accuracy: 0.6963 - val_loss: 0.9487 - val_accuracy: 0.6813\n",
      "Epoch 16/100\n",
      "88/88 [==============================] - 35s 393ms/step - loss: 0.7275 - accuracy: 0.7053 - val_loss: 0.9954 - val_accuracy: 0.6365\n",
      "Epoch 17/100\n",
      "88/88 [==============================] - 36s 404ms/step - loss: 0.7199 - accuracy: 0.7060 - val_loss: 0.5660 - val_accuracy: 0.6776\n",
      "Epoch 18/100\n",
      "88/88 [==============================] - 36s 406ms/step - loss: 0.6860 - accuracy: 0.7347 - val_loss: 0.9484 - val_accuracy: 0.6566\n",
      "Epoch 19/100\n",
      "88/88 [==============================] - 35s 403ms/step - loss: 0.6292 - accuracy: 0.7372 - val_loss: 0.3990 - val_accuracy: 0.7087\n",
      "Epoch 20/100\n",
      "88/88 [==============================] - 36s 407ms/step - loss: 0.6269 - accuracy: 0.7401 - val_loss: 0.4864 - val_accuracy: 0.6703\n",
      "Epoch 21/100\n",
      "88/88 [==============================] - 36s 409ms/step - loss: 0.6132 - accuracy: 0.7504 - val_loss: 0.7034 - val_accuracy: 0.6420\n",
      "Epoch 22/100\n",
      "88/88 [==============================] - 37s 417ms/step - loss: 0.6109 - accuracy: 0.7375 - val_loss: 0.5878 - val_accuracy: 0.7479\n",
      "Epoch 23/100\n",
      "88/88 [==============================] - 36s 414ms/step - loss: 0.5770 - accuracy: 0.7605 - val_loss: 0.8504 - val_accuracy: 0.6374\n",
      "Epoch 24/100\n",
      "88/88 [==============================] - 36s 412ms/step - loss: 0.5828 - accuracy: 0.7605 - val_loss: 0.4637 - val_accuracy: 0.7352\n",
      "Epoch 25/100\n",
      "88/88 [==============================] - 35s 394ms/step - loss: 0.5826 - accuracy: 0.7573 - val_loss: 0.3911 - val_accuracy: 0.7479\n",
      "Epoch 26/100\n",
      "88/88 [==============================] - 34s 385ms/step - loss: 0.5598 - accuracy: 0.7641 - val_loss: 0.2522 - val_accuracy: 0.7689\n",
      "Epoch 27/100\n",
      "88/88 [==============================] - 34s 391ms/step - loss: 0.5265 - accuracy: 0.7824 - val_loss: 0.3734 - val_accuracy: 0.7525\n",
      "Epoch 28/100\n",
      "88/88 [==============================] - 34s 383ms/step - loss: 0.5294 - accuracy: 0.7885 - val_loss: 0.5331 - val_accuracy: 0.7753\n",
      "Epoch 29/100\n",
      "88/88 [==============================] - 33s 378ms/step - loss: 0.5257 - accuracy: 0.7895 - val_loss: 0.6131 - val_accuracy: 0.7534\n",
      "Epoch 30/100\n",
      "88/88 [==============================] - 32s 368ms/step - loss: 0.5229 - accuracy: 0.7834 - val_loss: 0.5244 - val_accuracy: 0.7954\n",
      "Epoch 31/100\n",
      "88/88 [==============================] - 32s 365ms/step - loss: 0.5163 - accuracy: 0.7924 - val_loss: 0.5010 - val_accuracy: 0.7461\n",
      "Epoch 32/100\n",
      "88/88 [==============================] - 33s 370ms/step - loss: 0.4789 - accuracy: 0.8010 - val_loss: 0.6107 - val_accuracy: 0.7525\n",
      "Epoch 33/100\n",
      "88/88 [==============================] - 32s 362ms/step - loss: 0.5037 - accuracy: 0.7931 - val_loss: 0.0817 - val_accuracy: 0.7945\n",
      "Epoch 34/100\n",
      "88/88 [==============================] - 33s 374ms/step - loss: 0.4724 - accuracy: 0.8110 - val_loss: 0.2891 - val_accuracy: 0.8110\n",
      "Epoch 35/100\n",
      "88/88 [==============================] - 32s 368ms/step - loss: 0.4782 - accuracy: 0.7992 - val_loss: 0.6482 - val_accuracy: 0.7288\n",
      "Epoch 36/100\n",
      "88/88 [==============================] - 32s 360ms/step - loss: 0.4684 - accuracy: 0.8060 - val_loss: 0.4888 - val_accuracy: 0.7352\n",
      "Epoch 37/100\n",
      "88/88 [==============================] - 31s 356ms/step - loss: 0.4903 - accuracy: 0.7996 - val_loss: 0.3754 - val_accuracy: 0.7973\n",
      "Epoch 38/100\n",
      "88/88 [==============================] - 32s 364ms/step - loss: 0.4522 - accuracy: 0.8139 - val_loss: 0.5229 - val_accuracy: 0.8228\n",
      "Epoch 39/100\n",
      "88/88 [==============================] - 32s 362ms/step - loss: 0.4609 - accuracy: 0.8153 - val_loss: 0.5017 - val_accuracy: 0.8530\n",
      "Epoch 40/100\n",
      "88/88 [==============================] - 32s 360ms/step - loss: 0.4401 - accuracy: 0.8207 - val_loss: 1.5709 - val_accuracy: 0.7799\n",
      "Epoch 41/100\n",
      "88/88 [==============================] - 32s 361ms/step - loss: 0.4386 - accuracy: 0.8200 - val_loss: 0.5748 - val_accuracy: 0.7817\n",
      "Epoch 42/100\n",
      "88/88 [==============================] - 32s 362ms/step - loss: 0.4288 - accuracy: 0.8171 - val_loss: 0.2255 - val_accuracy: 0.8603\n",
      "Epoch 43/100\n",
      "88/88 [==============================] - 32s 362ms/step - loss: 0.4507 - accuracy: 0.8211 - val_loss: 0.1709 - val_accuracy: 0.8521\n",
      "Epoch 44/100\n",
      "88/88 [==============================] - 32s 361ms/step - loss: 0.4112 - accuracy: 0.8272 - val_loss: 0.7743 - val_accuracy: 0.8749\n",
      "Epoch 45/100\n",
      "88/88 [==============================] - 32s 363ms/step - loss: 0.4009 - accuracy: 0.8283 - val_loss: 0.2876 - val_accuracy: 0.8776\n",
      "Epoch 46/100\n",
      "88/88 [==============================] - 32s 360ms/step - loss: 0.3942 - accuracy: 0.8401 - val_loss: 0.3637 - val_accuracy: 0.8521\n",
      "Epoch 47/100\n",
      "88/88 [==============================] - 32s 363ms/step - loss: 0.4373 - accuracy: 0.8265 - val_loss: 0.5152 - val_accuracy: 0.8311\n",
      "Epoch 48/100\n",
      "88/88 [==============================] - 32s 361ms/step - loss: 0.4165 - accuracy: 0.8311 - val_loss: 0.4207 - val_accuracy: 0.8219\n",
      "Epoch 49/100\n",
      "88/88 [==============================] - 32s 361ms/step - loss: 0.4062 - accuracy: 0.8326 - val_loss: 0.3639 - val_accuracy: 0.8466\n",
      "Epoch 50/100\n",
      "88/88 [==============================] - 32s 362ms/step - loss: 0.3949 - accuracy: 0.8358 - val_loss: 0.2959 - val_accuracy: 0.8904\n",
      "Epoch 51/100\n",
      "88/88 [==============================] - 32s 364ms/step - loss: 0.3752 - accuracy: 0.8516 - val_loss: 0.0443 - val_accuracy: 0.8858\n",
      "Epoch 52/100\n",
      "88/88 [==============================] - 32s 362ms/step - loss: 0.3809 - accuracy: 0.8444 - val_loss: 0.4908 - val_accuracy: 0.7799\n",
      "Epoch 53/100\n",
      "88/88 [==============================] - 32s 367ms/step - loss: 0.3859 - accuracy: 0.8516 - val_loss: 0.1686 - val_accuracy: 0.8475\n",
      "Epoch 54/100\n",
      "88/88 [==============================] - 32s 364ms/step - loss: 0.3566 - accuracy: 0.8609 - val_loss: 0.2339 - val_accuracy: 0.8018\n",
      "Epoch 55/100\n",
      "88/88 [==============================] - 32s 363ms/step - loss: 0.3872 - accuracy: 0.8469 - val_loss: 0.1944 - val_accuracy: 0.8804\n",
      "Epoch 56/100\n",
      "88/88 [==============================] - 32s 359ms/step - loss: 0.3638 - accuracy: 0.8612 - val_loss: 0.4752 - val_accuracy: 0.8247\n",
      "Epoch 57/100\n",
      "88/88 [==============================] - 32s 360ms/step - loss: 0.3713 - accuracy: 0.8494 - val_loss: 0.4656 - val_accuracy: 0.8137\n",
      "Epoch 58/100\n",
      "88/88 [==============================] - 32s 364ms/step - loss: 0.3541 - accuracy: 0.8620 - val_loss: 0.3319 - val_accuracy: 0.9087\n",
      "Epoch 59/100\n",
      "88/88 [==============================] - 33s 372ms/step - loss: 0.3512 - accuracy: 0.8630 - val_loss: 0.1093 - val_accuracy: 0.8329\n",
      "Epoch 60/100\n",
      "88/88 [==============================] - 33s 376ms/step - loss: 0.3453 - accuracy: 0.8630 - val_loss: 0.1391 - val_accuracy: 0.7251\n",
      "Epoch 61/100\n",
      "88/88 [==============================] - 32s 362ms/step - loss: 0.3660 - accuracy: 0.8555 - val_loss: 0.3695 - val_accuracy: 0.7909\n",
      "Epoch 62/100\n",
      "88/88 [==============================] - 32s 363ms/step - loss: 0.3608 - accuracy: 0.8609 - val_loss: 0.4671 - val_accuracy: 0.8740\n",
      "Epoch 63/100\n",
      "88/88 [==============================] - 32s 362ms/step - loss: 0.3254 - accuracy: 0.8695 - val_loss: 0.4680 - val_accuracy: 0.8767\n",
      "Epoch 64/100\n",
      "88/88 [==============================] - 32s 362ms/step - loss: 0.3203 - accuracy: 0.8670 - val_loss: 0.1338 - val_accuracy: 0.8950\n",
      "Epoch 65/100\n",
      "88/88 [==============================] - 32s 361ms/step - loss: 0.3517 - accuracy: 0.8688 - val_loss: 0.5508 - val_accuracy: 0.8895\n",
      "Epoch 66/100\n",
      "88/88 [==============================] - 32s 368ms/step - loss: 0.3329 - accuracy: 0.8713 - val_loss: 0.0979 - val_accuracy: 0.8603\n",
      "Epoch 67/100\n",
      "88/88 [==============================] - 32s 361ms/step - loss: 0.3139 - accuracy: 0.8781 - val_loss: 0.9823 - val_accuracy: 0.8977\n",
      "Epoch 68/100\n",
      "88/88 [==============================] - 32s 369ms/step - loss: 0.3244 - accuracy: 0.8745 - val_loss: 2.2165e-04 - val_accuracy: 0.9014\n",
      "Epoch 69/100\n",
      "88/88 [==============================] - 32s 362ms/step - loss: 0.3591 - accuracy: 0.8620 - val_loss: 0.8846 - val_accuracy: 0.8658\n",
      "Epoch 70/100\n",
      "88/88 [==============================] - 32s 366ms/step - loss: 0.3190 - accuracy: 0.8727 - val_loss: 0.5679 - val_accuracy: 0.8521\n",
      "Epoch 71/100\n",
      "88/88 [==============================] - 32s 362ms/step - loss: 0.3170 - accuracy: 0.8734 - val_loss: 0.4807 - val_accuracy: 0.8995\n",
      "Epoch 72/100\n",
      "88/88 [==============================] - 32s 363ms/step - loss: 0.3194 - accuracy: 0.8702 - val_loss: 0.1096 - val_accuracy: 0.8530\n",
      "Epoch 73/100\n",
      "88/88 [==============================] - 32s 361ms/step - loss: 0.3265 - accuracy: 0.8724 - val_loss: 0.0930 - val_accuracy: 0.9187\n",
      "Epoch 74/100\n",
      "88/88 [==============================] - 32s 363ms/step - loss: 0.3004 - accuracy: 0.8770 - val_loss: 0.5538 - val_accuracy: 0.9068\n",
      "Epoch 75/100\n",
      "88/88 [==============================] - 32s 362ms/step - loss: 0.3027 - accuracy: 0.8810 - val_loss: 0.0327 - val_accuracy: 0.8995\n",
      "Epoch 76/100\n",
      "88/88 [==============================] - 32s 363ms/step - loss: 0.3034 - accuracy: 0.8820 - val_loss: 0.1512 - val_accuracy: 0.8950\n",
      "Epoch 77/100\n",
      "88/88 [==============================] - 32s 362ms/step - loss: 0.2870 - accuracy: 0.8921 - val_loss: 0.1626 - val_accuracy: 0.8530\n",
      "Epoch 78/100\n",
      "88/88 [==============================] - 32s 363ms/step - loss: 0.2909 - accuracy: 0.8835 - val_loss: 0.2070 - val_accuracy: 0.8785\n",
      "Epoch 79/100\n",
      "88/88 [==============================] - 32s 363ms/step - loss: 0.2957 - accuracy: 0.8824 - val_loss: 0.0675 - val_accuracy: 0.8977\n",
      "Epoch 80/100\n",
      "88/88 [==============================] - 32s 362ms/step - loss: 0.2870 - accuracy: 0.8820 - val_loss: 0.8641 - val_accuracy: 0.8886\n",
      "Epoch 81/100\n",
      "88/88 [==============================] - 32s 362ms/step - loss: 0.2836 - accuracy: 0.8849 - val_loss: 0.1323 - val_accuracy: 0.8530\n",
      "Epoch 82/100\n",
      "88/88 [==============================] - 32s 361ms/step - loss: 0.2882 - accuracy: 0.8885 - val_loss: 0.7910 - val_accuracy: 0.9132\n",
      "Epoch 83/100\n",
      "88/88 [==============================] - 32s 362ms/step - loss: 0.3145 - accuracy: 0.8720 - val_loss: 0.4205 - val_accuracy: 0.8731\n",
      "Epoch 84/100\n",
      "88/88 [==============================] - 32s 361ms/step - loss: 0.2871 - accuracy: 0.8863 - val_loss: 0.5351 - val_accuracy: 0.8767\n",
      "Epoch 85/100\n",
      "88/88 [==============================] - 32s 362ms/step - loss: 0.3122 - accuracy: 0.8856 - val_loss: 0.1949 - val_accuracy: 0.8475\n",
      "Epoch 86/100\n",
      "88/88 [==============================] - 32s 363ms/step - loss: 0.2916 - accuracy: 0.8892 - val_loss: 0.3946 - val_accuracy: 0.9151\n",
      "Epoch 87/100\n",
      "88/88 [==============================] - 32s 363ms/step - loss: 0.2841 - accuracy: 0.8903 - val_loss: 0.3163 - val_accuracy: 0.9041\n",
      "Epoch 88/100\n",
      "88/88 [==============================] - 32s 361ms/step - loss: 0.2682 - accuracy: 0.8989 - val_loss: 0.1929 - val_accuracy: 0.9169\n",
      "Epoch 89/100\n",
      "88/88 [==============================] - 32s 361ms/step - loss: 0.2892 - accuracy: 0.8910 - val_loss: 0.1374 - val_accuracy: 0.8995\n",
      "Epoch 90/100\n",
      "88/88 [==============================] - 32s 364ms/step - loss: 0.2604 - accuracy: 0.9014 - val_loss: 0.1402 - val_accuracy: 0.9087\n",
      "Epoch 91/100\n",
      "88/88 [==============================] - 32s 368ms/step - loss: 0.2601 - accuracy: 0.9007 - val_loss: 0.0443 - val_accuracy: 0.8767\n",
      "Epoch 92/100\n",
      "88/88 [==============================] - 32s 363ms/step - loss: 0.2698 - accuracy: 0.8964 - val_loss: 0.4095 - val_accuracy: 0.8484\n",
      "Epoch 93/100\n",
      "88/88 [==============================] - 32s 363ms/step - loss: 0.2655 - accuracy: 0.8957 - val_loss: 0.0531 - val_accuracy: 0.9160\n",
      "Epoch 94/100\n",
      "88/88 [==============================] - 32s 365ms/step - loss: 0.2777 - accuracy: 0.8921 - val_loss: 0.4163 - val_accuracy: 0.9178\n",
      "Epoch 95/100\n",
      "88/88 [==============================] - 32s 367ms/step - loss: 0.2526 - accuracy: 0.9028 - val_loss: 0.4156 - val_accuracy: 0.8584\n",
      "Epoch 96/100\n",
      "88/88 [==============================] - 32s 367ms/step - loss: 0.2615 - accuracy: 0.8924 - val_loss: 0.2007 - val_accuracy: 0.8895\n",
      "Epoch 97/100\n",
      "88/88 [==============================] - 32s 365ms/step - loss: 0.3089 - accuracy: 0.8774 - val_loss: 0.4202 - val_accuracy: 0.9288\n",
      "Epoch 98/100\n",
      "88/88 [==============================] - 32s 363ms/step - loss: 0.2795 - accuracy: 0.8910 - val_loss: 0.1020 - val_accuracy: 0.8904\n",
      "Epoch 99/100\n",
      "88/88 [==============================] - 32s 368ms/step - loss: 0.2585 - accuracy: 0.9032 - val_loss: 0.1670 - val_accuracy: 0.9215\n",
      "Epoch 100/100\n",
      "88/88 [==============================] - 33s 373ms/step - loss: 0.2404 - accuracy: 0.9061 - val_loss: 0.2044 - val_accuracy: 0.8886\n"
     ]
    }
   ],
   "source": [
    "model_history=classifier.fit(x=train_set, validation_data=test_set,epochs = 100)\n"
   ]
  },
  {
   "cell_type": "markdown",
   "metadata": {},
   "source": [
    "## ## Model Accuracy for Test Data"
   ]
  },
  {
   "cell_type": "code",
   "execution_count": 13,
   "metadata": {},
   "outputs": [
    {
     "name": "stdout",
     "output_type": "stream",
     "text": [
      "35/35 [==============================] - 4s 115ms/step\n",
      "0.889  : Is the accuracy \n",
      "\n",
      "0.12 :  Is the Loss\n"
     ]
    }
   ],
   "source": [
    "test_loss,test_acc=classifier.evaluate(test_set)\n",
    "\n",
    "print('{:#.3g}'.format(test_acc),' : Is the accuracy \\n')\n",
    "print(np.round(test_loss,2),':  Is the Loss')"
   ]
  },
  {
   "cell_type": "markdown",
   "metadata": {},
   "source": [
    "## Model Performance"
   ]
  },
  {
   "cell_type": "code",
   "execution_count": 14,
   "metadata": {},
   "outputs": [
    {
     "data": {
      "image/png": "[encoded data removed]",
      "text/plain": [
       "<Figure size 432x288 with 1 Axes>"
      ]
     },
     "metadata": {
      "needs_background": "light"
     },
     "output_type": "display_data"
    }
   ],
   "source": [
    "#plot the Loss\n",
    "plt.plot(model_history.history['loss'])\n",
    "plt.plot(model_history.history['val_loss'])\n",
    "plt.title('Model Loss')\n",
    "plt.ylabel('Loss')\n",
    "plt.xlabel('Epochs')\n",
    "plt.legend(['train', 'test'])\n",
    "plt.show()"
   ]
  },
  {
   "cell_type": "code",
   "execution_count": 15,
   "metadata": {},
   "outputs": [
    {
     "data": {
      "image/png": "[encoded data removed]",
      "text/plain": [
       "<Figure size 432x288 with 1 Axes>"
      ]
     },
     "metadata": {
      "needs_background": "light"
     },
     "output_type": "display_data"
    },
    {
     "data": {
      "text/plain": [
       "<Figure size 432x288 with 0 Axes>"
      ]
     },
     "metadata": {},
     "output_type": "display_data"
    }
   ],
   "source": [
    "# plot the accuracy\n",
    "plt.plot(model_history.history['accuracy'], label='train acc')\n",
    "plt.plot(model_history.history['val_accuracy'], label='val acc')\n",
    "plt.legend()\n",
    "plt.show()\n",
    "plt.savefig('AccVal_acc')"
   ]
  },
  {
   "cell_type": "code",
   "execution_count": null,
   "metadata": {},
   "outputs": [],
   "source": []
  },
  {
   "cell_type": "code",
   "execution_count": 44,
   "metadata": {},
   "outputs": [],
   "source": [
    "# Saving the model for predection\n",
    "classifier.save('Coins_Classification.h5')"
   ]
  },
  {
   "cell_type": "code",
   "execution_count": 45,
   "metadata": {},
   "outputs": [
    {
     "name": "stdout",
     "output_type": "stream",
     "text": [
      "WARNING:tensorflow:Large dropout rate: 0.6 (>0.5). In TensorFlow 2.x, dropout() uses dropout rate instead of keep_prob. Please ensure that this is intended.\n"
     ]
    }
   ],
   "source": [
    "# Loading the Saved Images\n",
    "\n",
    "from tensorflow.keras.models import load_model\n",
    "model=load_model('Coins_Classification.h5')"
   ]
  },
  {
   "cell_type": "markdown",
   "metadata": {},
   "source": [
    "### Making Single Prediciton"
   ]
  },
  {
   "cell_type": "code",
   "execution_count": 119,
   "metadata": {},
   "outputs": [
    {
     "data": {
      "image/png": "[encoded data removed]",
      "text/plain": [
       "<Figure size 432x288 with 1 Axes>"
      ]
     },
     "metadata": {
      "needs_background": "light"
     },
     "output_type": "display_data"
    }
   ],
   "source": [
    "from tensorflow.keras.preprocessing import image\n",
    "#C:\\Users\\Mizgaan\\Downloads\\classification_dataset\\Test\\50_Coin\\50_1477282290.jpg\n",
    "test_img=image.load_img(r'C:\\Users\\Mizgaan\\Downloads\\classification_dataset\\Test\\50_Coin\\50_1477282290.jpg',target_size=(64,64))\n",
    "test_img=image.img_to_array(test_img)\n",
    "test_img=test_img/255\n",
    "\n",
    "plt.imshow(test_img)\n",
    "\n",
    "test_img=np.expand_dims(test_img,axis=0)"
   ]
  },
  {
   "cell_type": "code",
   "execution_count": 120,
   "metadata": {},
   "outputs": [],
   "source": [
    "reslt=classifier.predict(test_img)"
   ]
  },
  {
   "cell_type": "code",
   "execution_count": 121,
   "metadata": {},
   "outputs": [
    {
     "data": {
      "text/plain": [
       "array([[0.01022988, 0.24734676, 0.07601741, 0.63707566, 0.02933032]],\n",
       "      dtype=float32)"
      ]
     },
     "execution_count": 121,
     "metadata": {},
     "output_type": "execute_result"
    }
   ],
   "source": [
    "reslt"
   ]
  },
  {
   "cell_type": "code",
   "execution_count": null,
   "metadata": {},
   "outputs": [],
   "source": []
  },
  {
   "cell_type": "code",
   "execution_count": 122,
   "metadata": {},
   "outputs": [
    {
     "data": {
      "text/plain": [
       "3"
      ]
     },
     "execution_count": 122,
     "metadata": {},
     "output_type": "execute_result"
    }
   ],
   "source": [
    "a=np.argmax(classifier.predict(test_img))\n",
    "a"
   ]
  },
  {
   "cell_type": "code",
   "execution_count": null,
   "metadata": {},
   "outputs": [],
   "source": []
  },
  {
   "cell_type": "code",
   "execution_count": 116,
   "metadata": {},
   "outputs": [
    {
     "name": "stdout",
     "output_type": "stream",
     "text": [
      "the Coin Is: 50\n"
     ]
    }
   ],
   "source": [
    "import re \n",
    "if a ==0:\n",
    "    print('The Coin Is: {}'.format( ''.join(re.findall(r'\\d+', folders[0]))))\n",
    "elif a==1:\n",
    "    print('The Coin Is: {}'.format( ''.join(re.findall(r'\\d+', folders[1]))))\n",
    "elif a==2:\n",
    "    print('The Coin Is: {}'.format( ''.join(re.findall(r'\\d+', folders[2]))))\n",
    "elif a==3:\n",
    "    print('The Coin Is: {}'.format( ''.join(re.findall(r'\\d+', folders[3]))))\n",
    "elif a==4 :\n",
    "    print('The Coin Is: {}'.format( ''.join(re.findall(r'\\d+', folders[4]))))"
   ]
  },
  {
   "cell_type": "code",
   "execution_count": null,
   "metadata": {},
   "outputs": [],
   "source": []
  },
  {
   "cell_type": "code",
   "execution_count": null,
   "metadata": {},
   "outputs": [],
   "source": []
  }
 ],
 "metadata": {
  "kernelspec": {
   "display_name": "Python 3",
   "language": "python",
   "name": "python3"
  },
  "language_info": {
   "codemirror_mode": {
    "name": "ipython",
    "version": 3
   },
   "file_extension": ".py",
   "mimetype": "text/x-python",
   "name": "python",
   "nbconvert_exporter": "python",
   "pygments_lexer": "ipython3",
   "version": "3.7.3"
  }
 },
 "nbformat": 4,
 "nbformat_minor": 2
}
