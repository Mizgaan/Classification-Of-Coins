{
  "nbformat": 4,
  "nbformat_minor": 0,
  "metadata": {
    "colab": {
      "name": "Untitled2.ipynb",
      "private_outputs": true,
      "provenance": [],
      "toc_visible": true
    },
    "kernelspec": {
      "name": "python3",
      "display_name": "Python 3"
    },
    "accelerator": "GPU"
  },
  "cells": [
    {
      "cell_type": "code",
      "metadata": {
        "id": "3bXoeEJW2qiN"
      },
      "source": [
        "from keras.layers import Input, Lambda, Dense, Flatten\r\n",
        "from keras.models import Model\r\n",
        "#from keras.applications.resnet50 import ResNet50\r\n",
        "from keras.applications.vgg16 import VGG16\r\n",
        "from keras.applications.vgg16 import preprocess_input\r\n",
        "from keras.preprocessing import image\r\n",
        "from keras.preprocessing.image import ImageDataGenerator\r\n",
        "from keras.models import Sequential\r\n",
        "import numpy as np\r\n",
        "from glob import glob\r\n",
        "import matplotlib.pyplot as plt\r\n",
        "import tensorflow as tf\r\n",
        "import keras"
      ],
      "execution_count": null,
      "outputs": []
    },
    {
      "cell_type": "code",
      "metadata": {
        "id": "zvMyw4Kw6J3Z"
      },
      "source": [
        "from tensorflow.compat.v1 import ConfigProto\r\n",
        "from tensorflow.compat.v1 import InteractiveSession\r\n",
        "config = ConfigProto()\r\n",
        "config.gpu_options.per_process_gpu_memory_fraction = 0.5\r\n",
        "config.gpu_options.allow_growth = True\r\n",
        "session = InteractiveSession(config=config)"
      ],
      "execution_count": null,
      "outputs": []
    },
    {
      "cell_type": "code",
      "metadata": {
        "id": "itQcuZ7D6XRZ"
      },
      "source": [
        "# re-size all the images to this\r\n",
        "IMAGE_SIZE = [224, 224]\r\n",
        "\r\n",
        "train_path = '/content/drive/MyDrive/classification_dataset/Train'\r\n",
        "valid_path = '/content/drive/MyDrive/classification_dataset/Test'\r\n"
      ],
      "execution_count": null,
      "outputs": []
    },
    {
      "cell_type": "code",
      "metadata": {
        "id": "1dnZJp6H6XYk"
      },
      "source": [
        "# Import the Vgg 16 library as shown below and add preprocessing layer to the front of VGG\r\n",
        "# Here we will be using imagenet weights\r\n",
        "\r\n",
        "vgg = VGG16(input_shape=IMAGE_SIZE + [3], weights='imagenet', include_top=False)"
      ],
      "execution_count": null,
      "outputs": []
    },
    {
      "cell_type": "code",
      "metadata": {
        "id": "rHF0rXO16XhO"
      },
      "source": [
        "# don't train existing weights\r\n",
        "for layer in vgg.layers:\r\n",
        "    layer.trainable = False"
      ],
      "execution_count": null,
      "outputs": []
    },
    {
      "cell_type": "code",
      "metadata": {
        "id": "PS781olT6Xm8"
      },
      "source": [
        "# useful for getting number of output classes\r\n",
        "folders = glob('/content/drive/MyDrive/classification_dataset/Train/*')\r\n",
        "len(folders)"
      ],
      "execution_count": null,
      "outputs": []
    },
    {
      "cell_type": "code",
      "metadata": {
        "id": "YOauJHlO6Xr6"
      },
      "source": [
        "folders"
      ],
      "execution_count": null,
      "outputs": []
    },
    {
      "cell_type": "code",
      "metadata": {
        "id": "Sg6WbzF86XwU"
      },
      "source": [
        "# our layers \r\n",
        "x = Flatten()(vgg.output)"
      ],
      "execution_count": null,
      "outputs": []
    },
    {
      "cell_type": "code",
      "metadata": {
        "id": "iAx22WMx7xZ3"
      },
      "source": [
        "prediction = Dense(len(folders), activation='softmax')(x)\r\n",
        "\r\n",
        "# create a model object\r\n",
        "model = Model(inputs=vgg.input, outputs=prediction)"
      ],
      "execution_count": null,
      "outputs": []
    },
    {
      "cell_type": "code",
      "metadata": {
        "id": "-HM2fqSt7x4g"
      },
      "source": [
        "model.summary()"
      ],
      "execution_count": null,
      "outputs": []
    },
    {
      "cell_type": "code",
      "metadata": {
        "id": "UuOXCy767yCN"
      },
      "source": [
        "# tell the model what cost and optimization method to use\r\n",
        "model.compile(\r\n",
        "  loss='categorical_crossentropy',\r\n",
        "  optimizer='adam',\r\n",
        "  metrics=['accuracy']\r\n",
        ")"
      ],
      "execution_count": null,
      "outputs": []
    },
    {
      "cell_type": "code",
      "metadata": {
        "id": "iGdp29dt7yJf"
      },
      "source": [
        "# Use the Image Data Generator to import the images from the dataset\r\n",
        "from keras.preprocessing.image import ImageDataGenerator\r\n",
        "\r\n",
        "train_datagen = ImageDataGenerator(rescale = 1./255,\r\n",
        "                                   shear_range = 0.2,\r\n",
        "                                   zoom_range = 0.2,\r\n",
        "                                   horizontal_flip = True)\r\n",
        "\r\n",
        "test_datagen = ImageDataGenerator(rescale = 1./255)"
      ],
      "execution_count": null,
      "outputs": []
    },
    {
      "cell_type": "code",
      "metadata": {
        "id": "mWXLrnn_7yO3"
      },
      "source": [
        "training_set = train_datagen.flow_from_directory(train_path,\r\n",
        "                                                 target_size = (224, 224),\r\n",
        "                                                 batch_size = 32,\r\n",
        "                                                 class_mode = 'categorical')"
      ],
      "execution_count": null,
      "outputs": []
    },
    {
      "cell_type": "code",
      "metadata": {
        "id": "WxQQE71l7yTc"
      },
      "source": [
        "test_set = test_datagen.flow_from_directory(valid_path,\r\n",
        "                                            target_size = (224, 224),\r\n",
        "                                            batch_size = 32,\r\n",
        "                                            class_mode = 'categorical')"
      ],
      "execution_count": null,
      "outputs": []
    },
    {
      "cell_type": "code",
      "metadata": {
        "id": "UB32L79H9htT"
      },
      "source": [
        "# fit the model\r\n",
        "r = model.fit_generator(\r\n",
        "  training_set,\r\n",
        "  validation_data=test_set,\r\n",
        "  epochs=10,\r\n",
        "steps_per_epoch=len(training_set),    \r\n",
        "  validation_steps=len(test_set) \r\n",
        "  \r\n",
        ")"
      ],
      "execution_count": null,
      "outputs": []
    },
    {
      "cell_type": "code",
      "metadata": {
        "id": "5UZT-atk9ie6"
      },
      "source": [
        "test_loss,test_acc=model.evaluate(test_set)\r\n",
        "\r\n",
        "print('{:#.3g}'.format(test_acc),' : Is the accuracy \\n')\r\n",
        "print(np.round(test_loss,2),':  Is the Loss')"
      ],
      "execution_count": null,
      "outputs": []
    },
    {
      "cell_type": "code",
      "metadata": {
        "id": "2EHthxcz9i3m"
      },
      "source": [
        "r.history.keys()"
      ],
      "execution_count": null,
      "outputs": []
    },
    {
      "cell_type": "code",
      "metadata": {
        "id": "WJXI0d0w9jO1"
      },
      "source": [
        "# plot the loss\r\n",
        "plt.plot(r.history['loss'], label='train loss')\r\n",
        "plt.plot(r.history['val_loss'], label='val loss')\r\n",
        "plt.legend()\r\n",
        "plt.show()\r\n",
        "plt.savefig('LossVal_loss')\r\n",
        "\r\n",
        "# plot the accuracy\r\n",
        "plt.plot(r.history['accuracy'], label='train acc')\r\n",
        "plt.plot(r.history['val_accuracy'], label='val acc')\r\n",
        "plt.legend()\r\n",
        "plt.show()\r\n",
        "plt.savefig('AccVal_acc')"
      ],
      "execution_count": null,
      "outputs": []
    },
    {
      "cell_type": "code",
      "metadata": {
        "id": "VkBW6GRA_m53"
      },
      "source": [
        "# plot the accuracy\r\n",
        "plt.plot(r.history['accuracy'], label='train acc')\r\n",
        "plt.plot(r.history['val_accuracy'], label='val acc')\r\n",
        "plt.legend()\r\n",
        "plt.show()\r\n",
        "plt.savefig('AccVal_acc')"
      ],
      "execution_count": null,
      "outputs": []
    },
    {
      "cell_type": "code",
      "metadata": {
        "id": "X8RAkqpx_nIy"
      },
      "source": [
        ""
      ],
      "execution_count": null,
      "outputs": []
    },
    {
      "cell_type": "code",
      "metadata": {
        "id": "lUpaQFKh_nST"
      },
      "source": [
        "##  saving and Loading the model\r\n",
        "from keras.models import load_model\r\n",
        "\r\n",
        "model.save('Coins_Classification_model1_vgg16.h5')"
      ],
      "execution_count": null,
      "outputs": []
    },
    {
      "cell_type": "markdown",
      "metadata": {
        "id": "v3hXfYyM2tJm"
      },
      "source": [
        "# New Section"
      ]
    },
    {
      "cell_type": "markdown",
      "metadata": {
        "id": "5HiuCuTw3kSo"
      },
      "source": [
        "# New Section"
      ]
    },
    {
      "cell_type": "code",
      "metadata": {
        "id": "9A_OT6_l7wZF"
      },
      "source": [
        "from tensorflow.keras.models import load_model\r\n",
        "Vgg_16_model=load_model('Coins_Classification_model1_vgg16.h5')"
      ],
      "execution_count": null,
      "outputs": []
    },
    {
      "cell_type": "code",
      "metadata": {
        "id": "wxldBiNXAXL-"
      },
      "source": [
        "# Making Single Predection\r\n",
        "\r\n",
        "from tensorflow.keras.preprocessing import image\r\n",
        "\r\n",
        "test_img=image.load_img('/content/drive/MyDrive/classification_dataset/Test/25_Coin/25_1477285914.jpg',target_size=(224,224))\r\n",
        "test_img=image.img_to_array(test_img)\r\n",
        "test_img=test_img/255\r\n",
        "\r\n",
        "plt.imshow(test_img)\r\n",
        "\r\n",
        "test_img=np.expand_dims(test_img,axis=0)"
      ],
      "execution_count": null,
      "outputs": []
    },
    {
      "cell_type": "code",
      "metadata": {
        "id": "kZ078_kmAXsF"
      },
      "source": [
        ""
      ],
      "execution_count": null,
      "outputs": []
    },
    {
      "cell_type": "code",
      "metadata": {
        "id": "ZhAqWKeGAX3I"
      },
      "source": [
        "reslt=model.predict(test_img)"
      ],
      "execution_count": null,
      "outputs": []
    },
    {
      "cell_type": "code",
      "metadata": {
        "id": "f0NAOW_3SbvN"
      },
      "source": [
        "reslt"
      ],
      "execution_count": null,
      "outputs": []
    },
    {
      "cell_type": "code",
      "metadata": {
        "id": "4N0smbj1ZYAY"
      },
      "source": [
        "reslt.argmax(axis=-1)"
      ],
      "execution_count": null,
      "outputs": []
    },
    {
      "cell_type": "code",
      "metadata": {
        "id": "aLQdYdRISxOE"
      },
      "source": [
        "a=np.argmax(model.predict(test_img))\r\n",
        "a"
      ],
      "execution_count": null,
      "outputs": []
    },
    {
      "cell_type": "code",
      "metadata": {
        "id": "_Ph3MMEaZ10y"
      },
      "source": [
        "# keras.np_utils.probas_to_classes(reslt)"
      ],
      "execution_count": null,
      "outputs": []
    },
    {
      "cell_type": "code",
      "metadata": {
        "id": "HoyEo4LWS-lc"
      },
      "source": [
        "if a ==0:\r\n",
        "  print('The Coin Is: {}'.format(folders[1].split('/')[-1].replace('_Coin','')))\r\n",
        "elif a==1:\r\n",
        "  print('The Coin Is: {}'.format(folders[2].split('/')[-1].replace('_Coin','')))\r\n",
        "elif a==2:\r\n",
        "  print('The Coin Is: {}'.format(folders[3].split('/')[-1].replace('_Coin','')))\r\n",
        "elif a==3:\r\n",
        "  print('the Coin Is: {}'.format(folders[4].split('/')[-1].replace('_Coin','')))\r\n",
        "elif a==4 :\r\n",
        "  print('The Coin Is: {}'.format(folders[0].split('/')[-1].replace('_Coin',''))) "
      ],
      "execution_count": null,
      "outputs": []
    }
  ]
}